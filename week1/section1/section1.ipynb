{
 "cells": [
  {
   "cell_type": "code",
   "execution_count": 3,
   "metadata": {},
   "outputs": [
    {
     "data": {
      "text/plain": [
       "'/Users/universalproperty/Library/Mobile Documents/com~apple~CloudDocs/P3/INF 422 C++/week1/section1'"
      ]
     },
     "execution_count": 3,
     "metadata": {},
     "output_type": "execute_result"
    }
   ],
   "source": [
    "import pandas as pd\n",
    "import os\n",
    "\n",
    "# Get the path of the script\n",
    "script_path = os.getcwd()\n",
    "script_path"
   ]
  },
  {
   "cell_type": "code",
   "execution_count": 5,
   "metadata": {},
   "outputs": [
    {
     "name": "stdout",
     "output_type": "stream",
     "text": [
      "Read in the (8, 17) matrix:\n",
      "             CHAMPAGNE  MOUSSEUX_AOC  MOUSSEUX_SIMPLE  ALSACE  GIRONDE  \\\n",
      "BELGIUM           7069          2436             3066    2422    22986   \n",
      "Netherlands       3786           586              290    1999    22183   \n",
      "GERMANY          12578          2006            10439   17183    21023   \n",
      "ITALY             8037            30             1413      57       56   \n",
      "UK               13556          1217             7214    1127    30025   \n",
      "Switzerland       9664           471              112     600     6544   \n",
      "USA              10386           997             3788     408    13114   \n",
      "CANADA             206            51              330     241     3447   \n",
      "\n",
      "             BEAUJOLAIS  BORDEAUX  RHONE  ANJOU  AOC_OTHERS  VDQS  AUTRE_VDQS  \\\n",
      "BELGIUM           17465      3784   7950   2587       17200  1976       38747   \n",
      "Netherlands       19840      2339  10537    600       22806  1029       19151   \n",
      "GERMANY           72977      4828   7552   2101       15979  1346      191140   \n",
      "ITALY              2364        98     24      0          50     0        7992   \n",
      "UK                39919      7885   8172   7582       20004  2258      101108   \n",
      "Switzerland       17327      3191  11691    143        1279   212        1029   \n",
      "USA               17487     11791   1369    872        4016  1017       26192   \n",
      "CANADA             2346      1188   1798    131         944   487       38503   \n",
      "\n",
      "             PROVENCE  MUSCAT  AOC_STRONG  OTHER_STRONG  VERY_STRONG  \n",
      "BELGIUM          1375    2016         160            24         2415  \n",
      "Netherlands      1150    2908         246          1533           74  \n",
      "GERMANY          2514    1529         135           160          208  \n",
      "ITALY               0       0           8             0            8  \n",
      "UK                284   12891        1177           480         1705  \n",
      "Switzerland       401      18          26             0           12  \n",
      "USA                 9     716           7             0           36  \n",
      "CANADA            236     653           0             0           47  \n"
     ]
    }
   ],
   "source": [
    "data = pd.read_csv('../INF442-td1-1-handin/csv/wines.csv', index_col=0)\n",
    "print(f'Read in the ({data.shape[0]}, {data.shape[1]}) matrix:')\n",
    "print(data)"
   ]
  },
  {
   "cell_type": "code",
   "execution_count": 7,
   "metadata": {},
   "outputs": [
    {
     "name": "stdout",
     "output_type": "stream",
     "text": [
      "\n",
      "Countries:\n",
      "                     mean      variance  sample variance\n",
      "BELGIUM       7863.411765  1.029700e+08     1.094056e+08\n",
      "Netherlands   6532.764706  7.034981e+07     7.474667e+07\n",
      "GERMANY      21394.000000  2.084603e+09     2.214891e+09\n",
      "ITALY         1184.529412  6.601042e+06     7.013608e+06\n",
      "UK           15094.352941  5.791543e+08     6.153514e+08\n",
      "Switzerland   3101.176471  2.490154e+07     2.645788e+07\n",
      "USA           5423.823529  5.567098e+07     5.915042e+07\n",
      "CANADA        2976.941176  7.974679e+07     8.473097e+07\n"
     ]
    }
   ],
   "source": [
    "print('\\nCountries:')\n",
    "country_stats = pd.concat([data.mean(axis=1), data.var(axis=1, ddof=0), data.var(axis=1, ddof=1)], axis=1)\n",
    "country_stats.columns = ['mean', 'variance', 'sample variance']\n",
    "print(country_stats)"
   ]
  },
  {
   "cell_type": "code",
   "execution_count": 8,
   "metadata": {},
   "outputs": [
    {
     "name": "stdout",
     "output_type": "stream",
     "text": [
      "\n",
      "Wines:\n",
      "                      mean      variance  sample variance\n",
      "CHAMPAGNE         8160.250  1.743200e+07     1.992229e+07\n",
      "MOUSSEUX_AOC       974.250  6.760829e+05     7.726662e+05\n",
      "MOUSSEUX_SIMPLE   3331.500  1.227185e+07     1.402497e+07\n",
      "ALSACE            3004.625  2.934417e+07     3.353619e+07\n",
      "GIRONDE          14922.250  1.011508e+08     1.156009e+08\n",
      "BEAUJOLAIS       23715.625  4.669358e+08     5.336409e+08\n",
      "BORDEAUX          4388.000  1.273339e+07     1.455245e+07\n",
      "RHONE             6136.625  1.732086e+07     1.979526e+07\n",
      "ANJOU             1752.000  5.649432e+06     6.456494e+06\n",
      "AOC_OTHERS       10284.750  8.048640e+07     9.198445e+07\n",
      "VDQS              1040.625  5.658620e+05     6.466994e+05\n",
      "AUTRE_VDQS       52982.750  3.550185e+09     4.057354e+09\n",
      "PROVENCE           746.125  6.721169e+05     7.681336e+05\n",
      "MUSCAT            2591.375  1.603175e+07     1.832201e+07\n",
      "AOC_STRONG         219.875  1.379624e+05     1.576713e+05\n",
      "OTHER_STRONG       274.625  2.504142e+05     2.861877e+05\n",
      "VERY_STRONG        563.125  7.818531e+05     8.935464e+05\n"
     ]
    }
   ],
   "source": [
    "print('\\nWines:')\n",
    "wine_stats = pd.concat([data.mean(axis=0), data.var(axis=0, ddof=0), data.var(axis=0, ddof=1)], axis=1)\n",
    "wine_stats.columns = ['mean', 'variance', 'sample variance']\n",
    "print(wine_stats)"
   ]
  },
  {
   "cell_type": "code",
   "execution_count": 9,
   "metadata": {},
   "outputs": [
    {
     "name": "stdout",
     "output_type": "stream",
     "text": [
      "\n",
      "Wines correlation matrix:\n",
      "                 CHAMPAGNE  MOUSSEUX_AOC  MOUSSEUX_SIMPLE    ALSACE   GIRONDE  \\\n",
      "CHAMPAGNE         1.000000      0.463334         0.736936  0.389588  0.429757   \n",
      "MOUSSEUX_AOC      0.463334      1.000000         0.663172  0.566819  0.721559   \n",
      "MOUSSEUX_SIMPLE   0.736936      0.663172         1.000000  0.772025  0.592091   \n",
      "ALSACE            0.389588      0.566819         0.772025  1.000000  0.336165   \n",
      "GIRONDE           0.429757      0.721559         0.592091  0.336165  1.000000   \n",
      "BEAUJOLAIS        0.662227      0.633814         0.907078  0.885366  0.629313   \n",
      "BORDEAUX          0.596484      0.383064         0.481633  0.046749  0.462856   \n",
      "RHONE             0.208708      0.356894         0.075343  0.220650  0.563497   \n",
      "ANJOU             0.577636      0.472265         0.621558  0.101665  0.775290   \n",
      "AOC_OTHERS        0.211395      0.612723         0.445827  0.359531  0.934194   \n",
      "VDQS              0.405208      0.786673         0.616611  0.250372  0.933761   \n",
      "AUTRE_VDQS        0.510764      0.581573         0.934404  0.882193  0.527319   \n",
      "PROVENCE          0.177246      0.705888         0.570728  0.887007  0.499979   \n",
      "MUSCAT            0.432321      0.225115         0.444214 -0.059543  0.721545   \n",
      "AOC_STRONG        0.463490      0.222200         0.446008 -0.046020  0.713615   \n",
      "OTHER_STRONG     -0.205517     -0.084608        -0.118952 -0.008684  0.485552   \n",
      "VERY_STRONG       0.233049      0.700388         0.284627 -0.052442  0.649480   \n",
      "\n",
      "                 BEAUJOLAIS  BORDEAUX     RHONE     ANJOU  AOC_OTHERS  \\\n",
      "CHAMPAGNE          0.662227  0.596484  0.208708  0.577636    0.211395   \n",
      "MOUSSEUX_AOC       0.633814  0.383064  0.356894  0.472265    0.612723   \n",
      "MOUSSEUX_SIMPLE    0.907078  0.481633  0.075343  0.621558    0.445827   \n",
      "ALSACE             0.885366  0.046749  0.220650  0.101665    0.359531   \n",
      "GIRONDE            0.629313  0.462856  0.563497  0.775290    0.934194   \n",
      "BEAUJOLAIS         1.000000  0.342980  0.405522  0.483619    0.555138   \n",
      "BORDEAUX           0.342980  1.000000 -0.035416  0.449680    0.175046   \n",
      "RHONE              0.405522 -0.035416  1.000000  0.275548    0.597364   \n",
      "ANJOU              0.483619  0.449680  0.275548  1.000000    0.604254   \n",
      "AOC_OTHERS         0.555138  0.175046  0.597364  0.604254    1.000000   \n",
      "VDQS               0.526441  0.507736  0.352483  0.844045    0.802494   \n",
      "AUTRE_VDQS         0.929553  0.241165  0.149108  0.498989    0.459251   \n",
      "PROVENCE           0.760159 -0.096400  0.470789  0.084724    0.596725   \n",
      "MUSCAT             0.349336  0.365400  0.290355  0.949684    0.604100   \n",
      "AOC_STRONG         0.364240  0.335843  0.325186  0.948248    0.601504   \n",
      "OTHER_STRONG       0.110606 -0.098468  0.479724  0.116472    0.694336   \n",
      "VERY_STRONG        0.137483  0.178711  0.275538  0.701990    0.544073   \n",
      "\n",
      "                     VDQS  AUTRE_VDQS  PROVENCE    MUSCAT  AOC_STRONG  \\\n",
      "CHAMPAGNE        0.405208    0.510764  0.177246  0.432321    0.463490   \n",
      "MOUSSEUX_AOC     0.786673    0.581573  0.705888  0.225115    0.222200   \n",
      "MOUSSEUX_SIMPLE  0.616611    0.934404  0.570728  0.444214    0.446008   \n",
      "ALSACE           0.250372    0.882193  0.887007 -0.059543   -0.046020   \n",
      "GIRONDE          0.933761    0.527319  0.499979  0.721545    0.713615   \n",
      "BEAUJOLAIS       0.526441    0.929553  0.760159  0.349336    0.364240   \n",
      "BORDEAUX         0.507736    0.241165 -0.096400  0.365400    0.335843   \n",
      "RHONE            0.352483    0.149108  0.470789  0.290355    0.325186   \n",
      "ANJOU            0.844045    0.498989  0.084724  0.949684    0.948248   \n",
      "AOC_OTHERS       0.802494    0.459251  0.596725  0.604100    0.601504   \n",
      "VDQS             1.000000    0.519768  0.389788  0.731202    0.711707   \n",
      "AUTRE_VDQS       0.519768    1.000000  0.711446  0.353654    0.354680   \n",
      "PROVENCE         0.389788    0.711446  1.000000 -0.063936   -0.051471   \n",
      "MUSCAT           0.731202    0.353654 -0.063936  1.000000    0.997198   \n",
      "AOC_STRONG       0.711707    0.354680 -0.051471  0.997198    1.000000   \n",
      "OTHER_STRONG     0.211801   -0.029348  0.211843  0.327243    0.325800   \n",
      "VERY_STRONG      0.817878    0.169116  0.184125  0.556559    0.551700   \n",
      "\n",
      "                 OTHER_STRONG  VERY_STRONG  \n",
      "CHAMPAGNE           -0.205517     0.233049  \n",
      "MOUSSEUX_AOC        -0.084608     0.700388  \n",
      "MOUSSEUX_SIMPLE     -0.118952     0.284627  \n",
      "ALSACE              -0.008684    -0.052442  \n",
      "GIRONDE              0.485552     0.649480  \n",
      "BEAUJOLAIS           0.110606     0.137483  \n",
      "BORDEAUX            -0.098468     0.178711  \n",
      "RHONE                0.479724     0.275538  \n",
      "ANJOU                0.116472     0.701990  \n",
      "AOC_OTHERS           0.694336     0.544073  \n",
      "VDQS                 0.211801     0.817878  \n",
      "AUTRE_VDQS          -0.029348     0.169116  \n",
      "PROVENCE             0.211843     0.184125  \n",
      "MUSCAT               0.327243     0.556559  \n",
      "AOC_STRONG           0.325800     0.551700  \n",
      "OTHER_STRONG         1.000000    -0.060484  \n",
      "VERY_STRONG         -0.060484     1.000000  \n"
     ]
    }
   ],
   "source": [
    "print('\\nWines correlation matrix:')\n",
    "print(data.corr())"
   ]
  },
  {
   "cell_type": "code",
   "execution_count": null,
   "metadata": {},
   "outputs": [],
   "source": [
    "print('\\nCountries correlation matrix:')\n",
    "print(data.transpose().corr())"
   ]
  }
 ],
 "metadata": {
  "kernelspec": {
   "display_name": "base",
   "language": "python",
   "name": "python3"
  },
  "language_info": {
   "codemirror_mode": {
    "name": "ipython",
    "version": 3
   },
   "file_extension": ".py",
   "mimetype": "text/x-python",
   "name": "python",
   "nbconvert_exporter": "python",
   "pygments_lexer": "ipython3",
   "version": "3.9.13"
  }
 },
 "nbformat": 4,
 "nbformat_minor": 2
}
