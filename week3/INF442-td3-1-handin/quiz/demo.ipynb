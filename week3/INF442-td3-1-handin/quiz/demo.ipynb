{
 "cells": [
  {
   "cell_type": "code",
   "execution_count": 1,
   "id": "ad57e44d",
   "metadata": {},
   "outputs": [],
   "source": [
    "import sys\n",
    "import matplotlib.pyplot as plt\n",
    "from mpl_toolkits import mplot3d\n",
    "import pandas as pd\n",
    "from sklearn.cluster import KMeans\n",
    "from sklearn.preprocessing import MinMaxScaler"
   ]
  },
  {
   "cell_type": "code",
   "execution_count": 2,
   "id": "4b9497d0",
   "metadata": {},
   "outputs": [],
   "source": [
    "clust_col_labels = [\"protein\", \"sodium\"]\n",
    "nb_clusters = 3\n",
    "disp_col_labels = [\"protein\", \"sodium\"]"
   ]
  },
  {
   "cell_type": "code",
   "execution_count": 3,
   "id": "f01763e2",
   "metadata": {},
   "outputs": [
    {
     "name": "stdout",
     "output_type": "stream",
     "text": [
      "Selected labels: ['protein', 'sodium']\n",
      "Read in the (77,2) data:\n"
     ]
    },
    {
     "data": {
      "text/html": [
       "<div>\n",
       "<style scoped>\n",
       "    .dataframe tbody tr th:only-of-type {\n",
       "        vertical-align: middle;\n",
       "    }\n",
       "\n",
       "    .dataframe tbody tr th {\n",
       "        vertical-align: top;\n",
       "    }\n",
       "\n",
       "    .dataframe thead th {\n",
       "        text-align: right;\n",
       "    }\n",
       "</style>\n",
       "<table border=\"1\" class=\"dataframe\">\n",
       "  <thead>\n",
       "    <tr style=\"text-align: right;\">\n",
       "      <th></th>\n",
       "      <th>protein</th>\n",
       "      <th>sodium</th>\n",
       "    </tr>\n",
       "    <tr>\n",
       "      <th>name</th>\n",
       "      <th></th>\n",
       "      <th></th>\n",
       "    </tr>\n",
       "  </thead>\n",
       "  <tbody>\n",
       "    <tr>\n",
       "      <th>100%_Bran</th>\n",
       "      <td>4</td>\n",
       "      <td>130</td>\n",
       "    </tr>\n",
       "    <tr>\n",
       "      <th>100%_Natural_Bran</th>\n",
       "      <td>3</td>\n",
       "      <td>15</td>\n",
       "    </tr>\n",
       "    <tr>\n",
       "      <th>All-Bran</th>\n",
       "      <td>4</td>\n",
       "      <td>260</td>\n",
       "    </tr>\n",
       "    <tr>\n",
       "      <th>All-Bran_with_Extra_Fiber</th>\n",
       "      <td>4</td>\n",
       "      <td>140</td>\n",
       "    </tr>\n",
       "    <tr>\n",
       "      <th>Almond_Delight</th>\n",
       "      <td>2</td>\n",
       "      <td>200</td>\n",
       "    </tr>\n",
       "    <tr>\n",
       "      <th>...</th>\n",
       "      <td>...</td>\n",
       "      <td>...</td>\n",
       "    </tr>\n",
       "    <tr>\n",
       "      <th>Triples</th>\n",
       "      <td>2</td>\n",
       "      <td>250</td>\n",
       "    </tr>\n",
       "    <tr>\n",
       "      <th>Trix</th>\n",
       "      <td>1</td>\n",
       "      <td>140</td>\n",
       "    </tr>\n",
       "    <tr>\n",
       "      <th>Wheat_Chex</th>\n",
       "      <td>3</td>\n",
       "      <td>230</td>\n",
       "    </tr>\n",
       "    <tr>\n",
       "      <th>Wheaties</th>\n",
       "      <td>3</td>\n",
       "      <td>200</td>\n",
       "    </tr>\n",
       "    <tr>\n",
       "      <th>Wheaties_Honey_Gold</th>\n",
       "      <td>2</td>\n",
       "      <td>200</td>\n",
       "    </tr>\n",
       "  </tbody>\n",
       "</table>\n",
       "<p>77 rows × 2 columns</p>\n",
       "</div>"
      ],
      "text/plain": [
       "                           protein  sodium\n",
       "name                                      \n",
       "100%_Bran                        4     130\n",
       "100%_Natural_Bran                3      15\n",
       "All-Bran                         4     260\n",
       "All-Bran_with_Extra_Fiber        4     140\n",
       "Almond_Delight                   2     200\n",
       "...                            ...     ...\n",
       "Triples                          2     250\n",
       "Trix                             1     140\n",
       "Wheat_Chex                       3     230\n",
       "Wheaties                         3     200\n",
       "Wheaties_Honey_Gold              2     200\n",
       "\n",
       "[77 rows x 2 columns]"
      ]
     },
     "execution_count": 3,
     "metadata": {},
     "output_type": "execute_result"
    }
   ],
   "source": [
    "data = pd.read_csv(\"../csv/cereals.csv\", index_col=0, delimiter='\\t')\n",
    "if not clust_col_labels[0].startswith(':'):\n",
    "    data = data.loc[:,clust_col_labels]\n",
    "    print(\"Selected labels: \" + str(clust_col_labels))\n",
    "print('Read in the (' + str(data.shape[0]) + ',' + str(data.shape[1]) + ') data:')\n",
    "data"
   ]
  },
  {
   "cell_type": "code",
   "execution_count": 5,
   "id": "6b6623f5",
   "metadata": {},
   "outputs": [
    {
     "name": "stdout",
     "output_type": "stream",
     "text": [
      "\n",
      "Min-max normalizing data..."
     ]
    },
    {
     "data": {
      "text/plain": [
       "array([[0.6     , 0.40625 ],\n",
       "       [0.4     , 0.046875],\n",
       "       [0.6     , 0.8125  ],\n",
       "       [0.6     , 0.4375  ],\n",
       "       [0.2     , 0.625   ],\n",
       "       [0.2     , 0.5625  ],\n",
       "       [0.2     , 0.390625],\n",
       "       [0.4     , 0.65625 ],\n",
       "       [0.2     , 0.625   ],\n",
       "       [0.4     , 0.65625 ]])"
      ]
     },
     "execution_count": 5,
     "metadata": {},
     "output_type": "execute_result"
    }
   ],
   "source": [
    "print(\"\\nMin-max normalizing data...\", end='')\n",
    "scaler = MinMaxScaler()\n",
    "ndata = scaler.fit_transform(data)\n",
    "ndata[:10]"
   ]
  },
  {
   "cell_type": "code",
   "execution_count": 8,
   "id": "a2213233",
   "metadata": {},
   "outputs": [],
   "source": [
    "cl = KMeans(n_clusters=nb_clusters, random_state=0, n_init='auto').fit(data)"
   ]
  },
  {
   "cell_type": "code",
   "execution_count": 9,
   "id": "a07bd511",
   "metadata": {},
   "outputs": [
    {
     "data": {
      "text/plain": [
       "<matplotlib.collections.PathCollection at 0x1234e52d0>"
      ]
     },
     "execution_count": 9,
     "metadata": {},
     "output_type": "execute_result"
    },
    {
     "data": {
      "image/png": "[encoded data removed]",
      "text/plain": [
       "<Figure size 640x480 with 1 Axes>"
      ]
     },
     "metadata": {},
     "output_type": "display_data"
    }
   ],
   "source": [
    "data.plot(kind=\"scatter\", x=disp_col_labels[0], y=disp_col_labels[1], c=cl.labels_, marker='o', s=50, colormap=plt.cm.rainbow, colorbar=False, legend=True)\n",
    "#centers = scaler.inverse_transform(cl.cluster_centers_)\n",
    "centers = cl.cluster_centers_\n",
    "x = data.columns.get_loc(disp_col_labels[0])\n",
    "y = data.columns.get_loc(disp_col_labels[1])\n",
    "plt.scatter(centers[:,x], centers[:,y], c=list(range(nb_clusters)), marker='*', s=50, cmap=plt.cm.rainbow)"
   ]
  },
  {
   "cell_type": "code",
   "execution_count": null,
   "id": "591954f8",
   "metadata": {},
   "outputs": [],
   "source": []
  }
 ],
 "metadata": {
  "kernelspec": {
   "display_name": "Python 3 (ipykernel)",
   "language": "python",
   "name": "python3"
  },
  "language_info": {
   "codemirror_mode": {
    "name": "ipython",
    "version": 3
   },
   "file_extension": ".py",
   "mimetype": "text/x-python",
   "name": "python",
   "nbconvert_exporter": "python",
   "pygments_lexer": "ipython3",
   "version": "3.11.5"
  }
 },
 "nbformat": 4,
 "nbformat_minor": 5
}
